{
 "cells": [
  {
   "cell_type": "code",
   "execution_count": 1,
   "metadata": {
    "collapsed": true
   },
   "outputs": [],
   "source": [
    "import torch\n",
    "import numpy as np\n",
    "import pandas as pd\n",
    "import matplotlib.pyplot as plt\n",
    "import imp\n",
    "import core\n",
    "import utils\n",
    "%matplotlib inline\n",
    "wd = 'E:/new_data/kaggle/planet/'\n",
    "train_set = pd.read_csv(wd + 'train_v2.csv')\n",
    "train_set['tags'] = train_set['tags'].apply(lambda x: x.split(' '))\n",
    "test_set = pd.read_csv(wd+'sample_submission_v2.csv')\n",
    "train_tags = ['clear', 'partly_cloudy', 'haze', 'cloudy', 'primary', 'agriculture', 'road', 'water',\n",
    "             'cultivation', 'habitation', 'bare_ground', 'selective_logging', 'artisinal_mine', \n",
    "              'blooming', 'slash_burn', 'conventional_mine', 'blow_down']\n",
    "label_map = {l: i for i, l in enumerate(train_tags)}\n",
    "inv_label_map = {i: l for l, i in label_map.items()}\n",
    "file_all = train_set['image_name'].values\n",
    "y_tr = utils.get_y(train_set['tags'].values, label_map)\n",
    "test_file_all = test_set['image_name'].values\n",
    "\n",
    "nnts = np.load('../preds/170620_01_pred_ts.npy')\n",
    "nntr = np.load('../preds/170620_01_pred_tr.npy')\n",
    "\n",
    "gbts = np.load('../preds/gbm_all_pred_ts_170624_01.npy')\n",
    "gbtr = np.load('../preds/gbm_all_pred_tr_170624_01.npy')\n",
    "\n",
    "wnnts = np.load('./pred/modelweightedNN1_date710_pred_test.npy')\n",
    "wnntr = np.load('./pred/modelweightedNN1_date710_pred_train.npy')\n",
    "\n",
    "nbtr = np.load(\"./pred/modelnn_boost_date716_pred_train.npy\")\n",
    "nbts = np.load(\"./pred/modelnn_boost_date716_pred_test.npy\")\n",
    "\n",
    "rnnts = np.load('./pred/modelresnet1_date715_pred_test.npy')\n",
    "rnntr = np.load('./pred/modelresnet1_date715_pred_train.npy')"
   ]
  },
  {
   "cell_type": "code",
   "execution_count": 2,
   "metadata": {},
   "outputs": [
    {
     "data": {
      "text/plain": [
       "((40479, 17),\n",
       " (61191, 17),\n",
       " (40479, 17),\n",
       " (61191, 17),\n",
       " (40479, 17),\n",
       " (61191, 17),\n",
       " (40479, 17),\n",
       " (61191, 17),\n",
       " (40479, 17))"
      ]
     },
     "execution_count": 2,
     "metadata": {},
     "output_type": "execute_result"
    }
   ],
   "source": [
    "nntr.shape, nnts.shape, gbtr.shape, gbts.shape, wnntr.shape, wnnts.shape, nbtr.shape, nbts.shape, y_tr.shape"
   ]
  },
  {
   "cell_type": "code",
   "execution_count": 7,
   "metadata": {
    "collapsed": true
   },
   "outputs": [],
   "source": [
    "from sklearn.linear_model import LogisticRegression\n",
    "from sklearn.metrics import fbeta_score\n",
    "from sklearn.model_selection import StratifiedKFold\n",
    "\n",
    "y_ts = np.zeros((gbts.shape[0], 17))\n",
    "p_tr = np.zeros((gbtr.shape[0], 17))\n",
    "\n",
    "for i_c in range(17):\n",
    "    skf = StratifiedKFold(n_splits=5)\n",
    "    x_tr = np.c_[nntr[:, i_c], gbtr[:, i_c], wnntr[:, i_c], nbtr[:, i_c], rnntr[:, i_c]]\n",
    "    x_ts = np.c_[nnts[:, i_c], gbts[:, i_c], wnnts[:, i_c], nbts[:, i_c], rnnts[:, i_c]]\n",
    "    k_now = 0\n",
    "    for i_tr, i_vl in skf.split(x_tr, y_tr[:, i_c]):\n",
    "        lr = LogisticRegression(class_weight='balanced')\n",
    "        lr.fit(x_tr[i_tr, :], y_tr[i_tr, i_c])\n",
    "        p_tr[i_vl, i_c] = lr.predict_proba(x_tr[i_vl, :])[:,1]\n",
    "\n",
    "    lr = LogisticRegression(class_weight='balanced')\n",
    "    lr.fit(x_tr, y_tr[:, i_c])\n",
    "    y_ts[:, i_c] = lr.predict_proba(x_ts)[:, 1]"
   ]
  },
  {
   "cell_type": "code",
   "execution_count": 8,
   "metadata": {},
   "outputs": [
    {
     "data": {
      "text/plain": [
       "0.92184654319648474"
      ]
     },
     "execution_count": 8,
     "metadata": {},
     "output_type": "execute_result"
    }
   ],
   "source": [
    "th1 = utils.f2_opti_score(y_tr, p_tr, thresholds = np.arange(0, 1, 0.01))\n",
    "th2 = utils.f2_opti_score(y_tr, p_tr, thresholds = np.arange(1, 0, -0.01))\n",
    "th = (th1 + th2) / 2.0\n",
    "utils.f2_score(y_tr, p_tr, th, num_classes=17)"
   ]
  },
  {
   "cell_type": "code",
   "execution_count": 5,
   "metadata": {
    "collapsed": true,
    "scrolled": true
   },
   "outputs": [],
   "source": [
    "imp.reload(utils)\n",
    "submit_df = utils.to_submit(y_ts, th, test_set, inv_label_map)\n",
    "submit_df.to_csv('./submit/4model_stacking_date716_no2.csv', index=False)"
   ]
  },
  {
   "cell_type": "code",
   "execution_count": 4,
   "metadata": {},
   "outputs": [
    {
     "name": "stdout",
     "output_type": "stream",
     "text": [
      "Best score: 0.9565453692037846, Best param 60.\n",
      "Best score: 0.9725042614689098, Best param 33.\n",
      "Best score: 0.9649694903530226, Best param 54.\n",
      "Best score: 0.9834482077126411, Best param 48.\n",
      "Best score: 0.9704044072234986, Best param 45.\n",
      "Best score: 0.9037031547222016, Best param 60.\n",
      "Best score: 0.9284814348180538, Best param 57.\n",
      "Best score: 0.9254181180365127, Best param 48.\n",
      "Best score: 0.9208478470317942, Best param 57.\n",
      "Best score: 0.9503693273055165, Best param 60.\n",
      "Best score: 0.9798413992440524, Best param 36.\n",
      "Best score: 0.9920946663702167, Best param 12.\n",
      "Best score: 0.9965661207045629, Best param 12.\n",
      "Best score: 0.9919217371970651, Best param 9.\n",
      "Best score: 0.9948368289730477, Best param 6.\n",
      "Best score: 0.9982707082684849, Best param 21.\n",
      "Best score: 0.997653104078658, Best param 24.\n"
     ]
    }
   ],
   "source": [
    "from sklearn.neighbors import KNeighborsClassifier\n",
    "from sklearn.model_selection import GridSearchCV\n",
    "\n",
    "y_ts = np.zeros((gbts.shape[0], 17))\n",
    "p_tr = np.zeros((gbtr.shape[0], 17))\n",
    "\n",
    "for i_c in range(17):\n",
    "    x_tr = np.c_[nntr[:, i_c], gbtr[:, i_c], wnntr[:, i_c], nbtr[:, i_c], rnntr[:, i_c]]\n",
    "    x_ts = np.c_[nnts[:, i_c], gbts[:, i_c], wnnts[:, i_c], nbts[:, i_c], rnnts[:, i_c]]\n",
    "    parameters = {'n_neighbors': range(3, 61, 3)}\n",
    "    neigh = KNeighborsClassifier()\n",
    "    clf = GridSearchCV(neigh, parameters, n_jobs=4)\n",
    "    clf.fit(x_tr, y_tr[:, i_c])\n",
    "    print('i: {}, Best score: {}, Best param {}.'.format(i_c, clf.best_score_, clf.best_params_['n_neighbors']))\n",
    "    neigh = KNeighborsClassifier(n_neighbors=clf.best_params_['n_neighbors'])\n",
    "    neigh.fit(x_tr, y_tr[:, i_c])\n",
    "    y_ts[:, i_c] = neigh.predict_proba(x_ts)[:, 1]"
   ]
  },
  {
   "cell_type": "code",
   "execution_count": 7,
   "metadata": {},
   "outputs": [],
   "source": [
    "from sklearn.neighbors import KNeighborsClassifier\n",
    "from sklearn.model_selection import GridSearchCV\n",
    "\n",
    "y_ts = np.zeros((gbts.shape[0], 17))\n",
    "p_tr = np.zeros((gbtr.shape[0], 17))\n",
    "\n",
    "n_neighbors = [60, 33, 54, 48,45,60,57,48,57,60,36,12,12,9,6,21,24]\n",
    "for i_c in range(17):\n",
    "    skf = StratifiedKFold(n_splits=5)\n",
    "    x_tr = np.c_[nntr[:, i_c], gbtr[:, i_c], wnntr[:, i_c], nbtr[:, i_c], rnntr[:, i_c]]\n",
    "    x_ts = np.c_[nnts[:, i_c], gbts[:, i_c], wnnts[:, i_c], nbts[:, i_c], rnnts[:, i_c]]\n",
    "    k_now = 0\n",
    "    for i_tr, i_vl in skf.split(x_tr, y_tr[:, i_c]):\n",
    "        neigh = KNeighborsClassifier(n_neighbors=n_neighbors[i_c])\n",
    "        neigh.fit(x_tr[i_tr, :], y_tr[i_tr, i_c])\n",
    "        p_tr[i_vl, i_c] = neigh.predict_proba(x_tr[i_vl, :])[:,1]\n",
    "        \n",
    "    neigh = KNeighborsClassifier(n_neighbors=n_neighbors[i_c])\n",
    "    neigh.fit(x_tr, y_tr[:, i_c])\n",
    "    y_ts[:, i_c] = neigh.predict_proba(x_ts)[:, 1]"
   ]
  },
  {
   "cell_type": "code",
   "execution_count": 8,
   "metadata": {},
   "outputs": [
    {
     "name": "stderr",
     "output_type": "stream",
     "text": [
      "J:\\Anaconda3\\envs\\py36\\lib\\site-packages\\sklearn\\metrics\\classification.py:1113: UndefinedMetricWarning: F-score is ill-defined and being set to 0.0 in samples with no predicted labels.\n",
      "  'precision', 'predicted', average, warn_for)\n"
     ]
    },
    {
     "data": {
      "text/plain": [
       "0.9244672299854505"
      ]
     },
     "execution_count": 8,
     "metadata": {},
     "output_type": "execute_result"
    }
   ],
   "source": [
    "th1 = utils.f2_opti_score(y_tr, p_tr, thresholds = np.arange(0, 1, 0.01))\n",
    "th2 = utils.f2_opti_score(y_tr, p_tr, thresholds = np.arange(1, 0, -0.01))\n",
    "th = (th1 + th2) / 2.0\n",
    "utils.f2_score(y_tr, p_tr, th, num_classes=17)"
   ]
  },
  {
   "cell_type": "code",
   "execution_count": 13,
   "metadata": {
    "collapsed": true
   },
   "outputs": [],
   "source": [
    "submit_df = utils.to_submit(y_ts, th * 0.95, test_set, inv_label_map)\n",
    "submit_df.to_csv('./submit/5model_stackingwithknn_date716_no4.csv', index=False)"
   ]
  },
  {
   "cell_type": "code",
   "execution_count": 12,
   "metadata": {},
   "outputs": [
    {
     "data": {
      "text/plain": [
       "array([ 0.16625,  0.133  ,  0.14725,  0.09025,  0.1805 ,  0.16625,\n",
       "        0.15675,  0.20425,  0.19475,  0.21375,  0.171  ,  0.1995 ,\n",
       "        0.2755 ,  0.3705 ,  0.7125 ,  0.114  ,  0.2565 ])"
      ]
     },
     "execution_count": 12,
     "metadata": {},
     "output_type": "execute_result"
    }
   ],
   "source": [
    "th * 0.95"
   ]
  },
  {
   "cell_type": "code",
   "execution_count": null,
   "metadata": {
    "collapsed": true
   },
   "outputs": [],
   "source": []
  }
 ],
 "metadata": {
  "kernelspec": {
   "display_name": "Python 3",
   "language": "python",
   "name": "python3"
  },
  "language_info": {
   "codemirror_mode": {
    "name": "ipython",
    "version": 3
   },
   "file_extension": ".py",
   "mimetype": "text/x-python",
   "name": "python",
   "nbconvert_exporter": "python",
   "pygments_lexer": "ipython3",
   "version": "3.6.1"
  }
 },
 "nbformat": 4,
 "nbformat_minor": 2
}
