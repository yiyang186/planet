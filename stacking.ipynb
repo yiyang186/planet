{
 "cells": [
  {
   "cell_type": "code",
   "execution_count": 15,
   "metadata": {
    "collapsed": false
   },
   "outputs": [],
   "source": [
    "import numpy as np\n",
    "import pandas as pd\n",
    "import matplotlib.pyplot as plt\n",
    "import imp\n",
    "import utils\n",
    "imp.reload(utils)\n",
    "%matplotlib inline\n",
    "\n",
    "wd, train_set, test_set, label_map, inv_label_map, file_all, y_tr, test_file_all = utils.myinit(wd)"
   ]
  },
  {
   "cell_type": "code",
   "execution_count": 16,
   "metadata": {
    "collapsed": false
   },
   "outputs": [],
   "source": [
    "nnts = np.load('../preds/170620_01_pred_ts.npy')\n",
    "nntr = np.load('../preds/170620_01_pred_tr.npy')\n",
    "\n",
    "gbts = np.load('../preds/gbm_all_pred_ts_170624_01.npy')\n",
    "gbtr = np.load('../preds/gbm_all_pred_tr_170624_01.npy')\n",
    "\n",
    "wnnts = np.load('./pred/modelweightedNN1_date710_pred_test.npy')\n",
    "wnntr = np.load('./pred/modelweightedNN1_date710_pred_train.npy')\n",
    "\n",
    "nbtr = np.load(\"./pred/modelnn_boost_date716_pred_train.npy\")\n",
    "nbts = np.load(\"./pred/modelnn_boost_date716_pred_test.npy\")\n",
    "\n",
    "rnnts = np.load('./pred/modelresnet1_date715_pred_test.npy')\n",
    "rnntr = np.load('./pred/modelresnet1_date715_pred_train.npy')\n",
    "\n",
    "sifts = np.load('./pred/modelsiftgdbt_date719_pred_test.npy')\n",
    "siftr = np.load('./pred/modelsiftgdbt_date719_pred_train.npy')"
   ]
  },
  {
   "cell_type": "code",
   "execution_count": 23,
   "metadata": {
    "collapsed": true
   },
   "outputs": [],
   "source": [
    "from sklearn.linear_model import LogisticRegression\n",
    "from sklearn.metrics import fbeta_score\n",
    "from sklearn.model_selection import StratifiedKFold\n",
    "\n",
    "y_ts = np.zeros((gbts.shape[0], 17))\n",
    "p_tr = np.zeros((gbtr.shape[0], 17))\n",
    "\n",
    "for i_c in range(17):\n",
    "    skf = StratifiedKFold(n_splits=5)\n",
    "    x_tr = np.c_[nntr[:, i_c], gbtr[:, i_c], wnntr[:, i_c], nbtr[:, i_c], rnntr[:, i_c], siftr[:, i_c]]\n",
    "    x_ts = np.c_[nnts[:, i_c], gbts[:, i_c], wnnts[:, i_c], nbts[:, i_c], rnnts[:, i_c], sifts[:, i_c]]\n",
    "    k_now = 0\n",
    "    for i_tr, i_vl in skf.split(x_tr, y_tr[:, i_c]):\n",
    "        lr = LogisticRegression(class_weight='balanced')\n",
    "        lr.fit(x_tr[i_tr, :], y_tr[i_tr, i_c])\n",
    "        p_tr[i_vl, i_c] = lr.predict_proba(x_tr[i_vl, :])[:,1]\n",
    "\n",
    "    lr = LogisticRegression(class_weight='balanced')\n",
    "    lr.fit(x_tr, y_tr[:, i_c])\n",
    "    y_ts[:, i_c] = lr.predict_proba(x_ts)[:, 1]"
   ]
  },
  {
   "cell_type": "code",
   "execution_count": 25,
   "metadata": {
    "collapsed": false
   },
   "outputs": [
    {
     "data": {
      "text/plain": [
       "0.92007698640649627"
      ]
     },
     "execution_count": 25,
     "metadata": {},
     "output_type": "execute_result"
    }
   ],
   "source": [
    "th1 = utils.f2_opti_score(y_tr, p_tr, thresholds = np.arange(0, 1, 0.01))\n",
    "th2 = utils.f2_opti_score(y_tr, p_tr, thresholds = np.arange(1, 0, -0.01))\n",
    "th = (th1 + th2) / 2.0\n",
    "utils.f2_score(y_tr, p_tr, th, num_classes=17)"
   ]
  },
  {
   "cell_type": "code",
   "execution_count": 24,
   "metadata": {
    "collapsed": false
   },
   "outputs": [
    {
     "name": "stderr",
     "output_type": "stream",
     "text": [
      "J:\\Anaconda3\\lib\\site-packages\\sklearn\\metrics\\classification.py:1113: UndefinedMetricWarning: F-score is ill-defined and being set to 0.0 due to no predicted samples.\n",
      "  'precision', 'predicted', average, warn_for)\n"
     ]
    },
    {
     "data": {
      "text/plain": [
       "0.92117673951585888"
      ]
     },
     "execution_count": 24,
     "metadata": {},
     "output_type": "execute_result"
    }
   ],
   "source": [
    "imp.reload(utils)\n",
    "_th1 = utils.f2_opti_score_new(y_tr, p_tr, thresholds = np.arange(0, 1, 0.01))\n",
    "_th2 = utils.f2_opti_score_new(y_tr, p_tr, thresholds = np.arange(1, 0, -0.01))\n",
    "_th = (_th1 + _th2) / 2.0\n",
    "utils.f2_score(y_tr, p_tr, _th, num_classes=17)"
   ]
  },
  {
   "cell_type": "code",
   "execution_count": 27,
   "metadata": {
    "collapsed": true,
    "scrolled": true
   },
   "outputs": [],
   "source": [
    "imp.reload(utils)\n",
    "submit_df = utils.to_submit(y_ts, th, test_set, inv_label_map)\n",
    "submit_df.to_csv('./submit/2model_stacking_date719_no4.csv', index=False)"
   ]
  },
  {
   "cell_type": "code",
   "execution_count": 28,
   "metadata": {
    "collapsed": false
   },
   "outputs": [
    {
     "name": "stdout",
     "output_type": "stream",
     "text": [
      "i: 0, Best score: 0.9562489191926679, Best param 54.\n",
      "i: 1, Best score: 0.9723807406309445, Best param 51.\n",
      "i: 2, Best score: 0.9647471528446849, Best param 39.\n",
      "i: 3, Best score: 0.983423503545048, Best param 42.\n",
      "i: 4, Best score: 0.9703797030559055, Best param 57.\n",
      "i: 5, Best score: 0.9037278588897947, Best param 57.\n",
      "i: 6, Best score: 0.9289508140023222, Best param 57.\n",
      "i: 7, Best score: 0.9262333555670842, Best param 54.\n",
      "i: 8, Best score: 0.9203784678475259, Best param 51.\n",
      "i: 9, Best score: 0.9500975814619926, Best param 57.\n",
      "i: 10, Best score: 0.9797919909088664, Best param 57.\n",
      "i: 11, Best score: 0.9920699622026236, Best param 30.\n",
      "i: 12, Best score: 0.9965414165369698, Best param 15.\n",
      "i: 13, Best score: 0.9918970330294721, Best param 12.\n",
      "i: 14, Best score: 0.9948368289730477, Best param 9.\n",
      "i: 15, Best score: 0.998320116603671, Best param 15.\n",
      "i: 16, Best score: 0.997653104078658, Best param 24.\n"
     ]
    }
   ],
   "source": [
    "from sklearn.neighbors import KNeighborsClassifier\n",
    "from sklearn.model_selection import GridSearchCV\n",
    "\n",
    "y_ts = np.zeros((gbts.shape[0], 17))\n",
    "p_tr = np.zeros((gbtr.shape[0], 17))\n",
    "\n",
    "for i_c in range(17):\n",
    "    x_tr = np.c_[nntr[:, i_c], gbtr[:, i_c], wnntr[:, i_c], nbtr[:, i_c], rnntr[:, i_c], siftr[:, i_c]]\n",
    "    x_ts = np.c_[nnts[:, i_c], gbts[:, i_c], wnnts[:, i_c], nbts[:, i_c], rnnts[:, i_c], sifts[:, i_c]]\n",
    "    parameters = {'n_neighbors': range(3, 61, 3)}\n",
    "    neigh = KNeighborsClassifier()\n",
    "    clf = GridSearchCV(neigh, parameters, n_jobs=4)\n",
    "    clf.fit(x_tr, y_tr[:, i_c])\n",
    "    print('i: {}, Best score: {}, Best param {}.'.format(i_c, clf.best_score_, clf.best_params_['n_neighbors']))\n",
    "    neigh = KNeighborsClassifier(n_neighbors=clf.best_params_['n_neighbors'])\n",
    "    neigh.fit(x_tr, y_tr[:, i_c])\n",
    "    y_ts[:, i_c] = neigh.predict_proba(x_ts)[:, 1]"
   ]
  },
  {
   "cell_type": "code",
   "execution_count": 29,
   "metadata": {
    "collapsed": true
   },
   "outputs": [],
   "source": [
    "from sklearn.neighbors import KNeighborsClassifier\n",
    "from sklearn.model_selection import GridSearchCV\n",
    "\n",
    "y_ts = np.zeros((gbts.shape[0], 17))\n",
    "p_tr = np.zeros((gbtr.shape[0], 17))\n",
    "\n",
    "n_neighbors = [54, 51, 39, 42,57,57,57,54,51,57,57,30,15,12,9,15,24]\n",
    "for i_c in range(17):\n",
    "    skf = StratifiedKFold(n_splits=5)\n",
    "    x_tr = np.c_[nntr[:, i_c], gbtr[:, i_c], wnntr[:, i_c], nbtr[:, i_c], rnntr[:, i_c]]\n",
    "    x_ts = np.c_[nnts[:, i_c], gbts[:, i_c], wnnts[:, i_c], nbts[:, i_c], rnnts[:, i_c]]\n",
    "    k_now = 0\n",
    "    for i_tr, i_vl in skf.split(x_tr, y_tr[:, i_c]):\n",
    "        neigh = KNeighborsClassifier(n_neighbors=n_neighbors[i_c])\n",
    "        neigh.fit(x_tr[i_tr, :], y_tr[i_tr, i_c])\n",
    "        p_tr[i_vl, i_c] = neigh.predict_proba(x_tr[i_vl, :])[:,1]\n",
    "        \n",
    "    neigh = KNeighborsClassifier(n_neighbors=n_neighbors[i_c])\n",
    "    neigh.fit(x_tr, y_tr[:, i_c])\n",
    "    y_ts[:, i_c] = neigh.predict_proba(x_ts)[:, 1]"
   ]
  },
  {
   "cell_type": "code",
   "execution_count": 30,
   "metadata": {
    "collapsed": false
   },
   "outputs": [
    {
     "name": "stderr",
     "output_type": "stream",
     "text": [
      "J:\\Anaconda3\\lib\\site-packages\\sklearn\\metrics\\classification.py:1113: UndefinedMetricWarning: F-score is ill-defined and being set to 0.0 in samples with no predicted labels.\n",
      "  'precision', 'predicted', average, warn_for)\n"
     ]
    },
    {
     "data": {
      "text/plain": [
       "0.92450062098143981"
      ]
     },
     "execution_count": 30,
     "metadata": {},
     "output_type": "execute_result"
    }
   ],
   "source": [
    "th1 = utils.f2_opti_score(y_tr, p_tr, thresholds = np.arange(0, 1, 0.01))\n",
    "th2 = utils.f2_opti_score(y_tr, p_tr, thresholds = np.arange(1, 0, -0.01))\n",
    "th = (th1 + th2) / 2.0\n",
    "utils.f2_score(y_tr, p_tr, th, num_classes=17)"
   ]
  },
  {
   "cell_type": "code",
   "execution_count": 32,
   "metadata": {
    "collapsed": true
   },
   "outputs": [],
   "source": [
    "submit_df = utils.to_submit(y_ts, th, test_set, inv_label_map)\n",
    "submit_df.to_csv('./submit/6model_stackingwithknn_date719_no4.csv', index=False)"
   ]
  },
  {
   "cell_type": "code",
   "execution_count": 12,
   "metadata": {
    "collapsed": false
   },
   "outputs": [
    {
     "data": {
      "text/plain": [
       "array([ 0.16625,  0.133  ,  0.14725,  0.09025,  0.1805 ,  0.16625,\n",
       "        0.15675,  0.20425,  0.19475,  0.21375,  0.171  ,  0.1995 ,\n",
       "        0.2755 ,  0.3705 ,  0.7125 ,  0.114  ,  0.2565 ])"
      ]
     },
     "execution_count": 12,
     "metadata": {},
     "output_type": "execute_result"
    }
   ],
   "source": [
    "th * 0.95"
   ]
  },
  {
   "cell_type": "code",
   "execution_count": null,
   "metadata": {
    "collapsed": true
   },
   "outputs": [],
   "source": []
  }
 ],
 "metadata": {
  "kernelspec": {
   "display_name": "Python [Root]",
   "language": "python",
   "name": "Python [Root]"
  },
  "language_info": {
   "codemirror_mode": {
    "name": "ipython",
    "version": 3
   },
   "file_extension": ".py",
   "mimetype": "text/x-python",
   "name": "python",
   "nbconvert_exporter": "python",
   "pygments_lexer": "ipython3",
   "version": "3.5.2"
  }
 },
 "nbformat": 4,
 "nbformat_minor": 2
}
