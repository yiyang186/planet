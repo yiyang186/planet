{
 "cells": [
  {
   "cell_type": "code",
   "execution_count": 4,
   "metadata": {
    "collapsed": false
   },
   "outputs": [],
   "source": [
    "import cv2\n",
    "import imp\n",
    "import os\n",
    "import gc\n",
    "from time import time\n",
    "import numpy as np\n",
    "from tqdm import tqdm\n",
    "\n",
    "tr_dir = 'E:/new_data/kaggle/planet/train-jpg/'\n",
    "ts_dir = 'E:/new_data/kaggle/planet/test-jpg/'\n",
    "fea_det = cv2.FeatureDetector_create(\"SIFT\")\n",
    "des_ext = cv2.DescriptorExtractor_create(\"SIFT\")"
   ]
  },
  {
   "cell_type": "code",
   "execution_count": 5,
   "metadata": {
    "collapsed": false
   },
   "outputs": [
    {
     "name": "stderr",
     "output_type": "stream",
     "text": [
      "100%|█████████████████████████████████████| 40479/40479 [25:06<00:00, 26.88it/s]\n"
     ]
    }
   ],
   "source": [
    "tr_files = os.listdir(tr_dir)\n",
    "tr_despts = np.array([]).reshape((-1, 128))\n",
    "\n",
    "for i, f in enumerate(tqdm(tr_files, mininterval=1, ncols=80)):\n",
    "    if i > 0 and i % 1000 == 0:\n",
    "        np.save('./despts/tr_despts_{}.npy'.format(i), tr_despts)\n",
    "        tr_despts = np.array([]).reshape((-1, 128))\n",
    "        gc.collect()\n",
    "              \n",
    "    img_path = tr_dir + f\n",
    "    img = cv2.imread(img_path)\n",
    "    kps = fea_det.detect(img)\n",
    "    kps, despt = des_ext.compute(img, kps)\n",
    "    if not despt is None:\n",
    "        tr_despts = np.concatenate((tr_despts, despt), axis=0)\n",
    "np.save('./despts/tr_despts_{}.npy'.format(i), tr_despts)"
   ]
  },
  {
   "cell_type": "code",
   "execution_count": 6,
   "metadata": {
    "collapsed": false
   },
   "outputs": [
    {
     "name": "stderr",
     "output_type": "stream",
     "text": [
      "100%|█████████████████████████████████████| 61191/61191 [40:41<00:00, 25.07it/s]\n"
     ]
    }
   ],
   "source": [
    "ts_files = os.listdir(ts_dir)\n",
    "ts_despts = np.array([]).reshape((-1, 128))\n",
    "\n",
    "for i, f in enumerate(tqdm(ts_files, mininterval=1, ncols=80)):\n",
    "    if i > 0 and i % 1000 == 0:\n",
    "        np.save('./despts/ts_despts_{}.npy'.format(i), ts_despts)\n",
    "        ts_despts = np.array([]).reshape((-1, 128))\n",
    "        gc.collect()\n",
    "              \n",
    "    img_path = ts_dir + f\n",
    "    img = cv2.imread(img_path)\n",
    "    kps = fea_det.detect(img)\n",
    "    kps, despt = des_ext.compute(img, kps)\n",
    "    if not despt is None:\n",
    "        ts_despts = np.concatenate((ts_despts, despt), axis=0)\n",
    "np.save('./despts/ts_despts_{}.npy'.format(i), ts_despts)"
   ]
  },
  {
   "cell_type": "code",
   "execution_count": 11,
   "metadata": {
    "collapsed": false
   },
   "outputs": [
    {
     "name": "stderr",
     "output_type": "stream",
     "text": [
      "100%|█████████████████████████████████████████| 103/103 [00:59<00:00,  1.06s/it]\n"
     ]
    }
   ],
   "source": [
    "despts = np.array([]).reshape((-1, 128))\n",
    "for i, f in enumerate(tqdm(os.listdir('./despts/'), mininterval=1, ncols=80)):\n",
    "    dpt = np.load('./despts/' + f)\n",
    "    despts = np.concatenate((despts, dpt), axis=0)"
   ]
  },
  {
   "cell_type": "code",
   "execution_count": 12,
   "metadata": {
    "collapsed": false
   },
   "outputs": [
    {
     "data": {
      "text/plain": [
       "(2662533L, 128L)"
      ]
     },
     "execution_count": 12,
     "metadata": {},
     "output_type": "execute_result"
    }
   ],
   "source": [
    "despts.shape"
   ]
  },
  {
   "cell_type": "code",
   "execution_count": 15,
   "metadata": {
    "collapsed": false
   },
   "outputs": [
    {
     "name": "stdout",
     "output_type": "stream",
     "text": [
      "51204.5019999\n"
     ]
    }
   ],
   "source": [
    "from scipy.cluster.vq import kmeans\n",
    "st = time()\n",
    "voc, variance = kmeans(despts, 256)\n",
    "print(time()-st)\n",
    "np.save('./despts/kmeans256_centers_var{}.npy'.format(int(variance)), voc)"
   ]
  },
  {
   "cell_type": "code",
   "execution_count": 23,
   "metadata": {
    "collapsed": false
   },
   "outputs": [
    {
     "name": "stderr",
     "output_type": "stream",
     "text": [
      "100%|█████████████████████████████████████| 40479/40479 [21:40<00:00, 31.12it/s]\n"
     ]
    }
   ],
   "source": [
    "from scipy.cluster.vq import vq\n",
    "\n",
    "tr_files = os.listdir(tr_dir)\n",
    "tr_despts = np.array([]).reshape((-1, 128))\n",
    "\n",
    "tf = np.zeros((len(tr_files), 256), dtype='float64')\n",
    "for i, f in enumerate(tqdm(tr_files, mininterval=1, ncols=80)):         \n",
    "    img_path = tr_dir + f\n",
    "    img = cv2.imread(img_path)\n",
    "    kps = fea_det.detect(img)\n",
    "    kps, despt = des_ext.compute(img, kps)\n",
    "    if not despt is None:\n",
    "        words, distance = vq(despt, voc)\n",
    "        for w in words:\n",
    "            tf[i][w] += 1.0\n",
    "np.save('./despts/tr_tf_256.npy', tf)"
   ]
  },
  {
   "cell_type": "code",
   "execution_count": 42,
   "metadata": {
    "collapsed": false
   },
   "outputs": [],
   "source": [
    "occurences = (tf > 0).sum(axis = 0)\n",
    "idf = np.log(float(len(tr_files)) / occurences.astype('float64'))\n",
    "tfidf = tf * idf\n",
    "np.save('./despts/tr_tfidf_256.npy', tfidf)"
   ]
  },
  {
   "cell_type": "code",
   "execution_count": 41,
   "metadata": {
    "collapsed": false
   },
   "outputs": [
    {
     "name": "stderr",
     "output_type": "stream",
     "text": [
      "100%|█████████████████████████████████████| 61191/61191 [36:12<00:00, 28.16it/s]\n"
     ]
    }
   ],
   "source": [
    "from scipy.cluster.vq import vq\n",
    "\n",
    "ts_files = os.listdir(ts_dir)\n",
    "ts_despts = np.array([]).reshape((-1, 128))\n",
    "\n",
    "ts_tf = np.zeros((len(ts_files), 256), dtype='float64')\n",
    "for i, f in enumerate(tqdm(ts_files, mininterval=1, ncols=80)):\n",
    "    img_path = ts_dir + f\n",
    "    img = cv2.imread(img_path)\n",
    "    kps = fea_det.detect(img)\n",
    "    kps, despt = des_ext.compute(img, kps)\n",
    "    if not despt is None:\n",
    "        words, distance = vq(despt, voc)\n",
    "        for w in words:\n",
    "            ts_tf[i][w] += 1.0\n",
    "np.save('./despts/ts_tf_256.npy', ts_tf)"
   ]
  },
  {
   "cell_type": "code",
   "execution_count": 44,
   "metadata": {
    "collapsed": false
   },
   "outputs": [],
   "source": [
    "ts_occurences = (ts_tf > 0).sum(axis = 0)\n",
    "ts_idf = np.log(float(len(ts_files)) / ts_occurences.astype('float64'))\n",
    "ts_tfidf = ts_tf * ts_idf\n",
    "np.save('./despts/ts_tfidf_256.npy', ts_tfidf)"
   ]
  },
  {
   "cell_type": "code",
   "execution_count": 46,
   "metadata": {
    "collapsed": false
   },
   "outputs": [
    {
     "data": {
      "text/plain": [
       "array([[ 0.        ,  0.        ,  0.        ,  0.        ,  0.        ,\n",
       "         0.        ,  0.        ,  0.        ,  0.        ,  0.        ,\n",
       "         0.        ,  0.        ,  0.        ,  0.        ,  0.        ,\n",
       "         0.        ,  0.        ,  0.        ,  0.        ,  0.        ,\n",
       "         2.15559691,  0.        ,  0.        ,  0.        ,  0.        ,\n",
       "         0.        ,  0.        ,  0.        ,  0.        ,  0.        ,\n",
       "         0.        ,  2.06437366,  0.        ,  0.        ,  0.        ,\n",
       "         0.        ,  0.        ,  0.        ,  0.        ,  0.        ,\n",
       "         0.        ,  0.        ,  0.        ,  0.        ,  0.        ,\n",
       "         0.        ,  0.        ,  0.        ,  0.        ,  0.        ,\n",
       "         0.        ,  0.        ,  0.        ,  0.        ,  0.        ,\n",
       "         0.        ,  0.        ,  0.        ,  0.        ,  0.        ,\n",
       "         0.        ,  0.        ,  0.        ,  0.        ,  0.        ,\n",
       "         0.        ,  0.        ,  0.        ,  0.        ,  0.        ,\n",
       "         0.        ,  0.        ,  2.12928143,  0.        ,  0.        ,\n",
       "         0.        ,  0.        ,  0.        ,  2.10230223,  0.        ,\n",
       "         0.        ,  0.        ,  0.        ,  0.        ,  0.        ,\n",
       "         0.        ,  2.13162029,  0.        ,  0.        ,  0.        ,\n",
       "         0.        ,  0.        ,  0.        ,  0.        ,  0.        ,\n",
       "         0.        ,  0.        ,  0.        ,  0.        ,  0.        ,\n",
       "         0.        ,  0.        ,  0.        ,  0.        ,  0.        ,\n",
       "         0.        ,  0.        ,  0.        ,  0.        ,  0.        ,\n",
       "         0.        ,  0.        ,  0.        ,  0.        ,  0.        ,\n",
       "         0.        ,  0.        ,  0.        ,  0.        ,  0.        ,\n",
       "         0.        ,  0.        ,  0.        ,  0.        ,  0.        ,\n",
       "         0.        ,  0.        ,  0.        ,  0.        ,  0.        ,\n",
       "         0.        ,  0.        ,  0.        ,  0.        ,  0.        ,\n",
       "         0.        ,  0.        ,  0.        ,  0.        ,  0.        ,\n",
       "         0.        ,  0.        ,  0.        ,  0.        ,  0.        ,\n",
       "         0.        ,  0.        ,  0.        ,  0.        ,  0.        ,\n",
       "         0.        ,  0.        ,  0.        ,  0.        ,  0.        ,\n",
       "         0.        ,  0.        ,  0.        ,  0.        ,  0.        ,\n",
       "         0.        ,  0.        ,  0.        ,  0.        ,  0.        ,\n",
       "         0.        ,  0.        ,  0.        ,  0.        ,  0.        ,\n",
       "         0.        ,  0.        ,  0.        ,  0.        ,  0.        ,\n",
       "         0.        ,  0.        ,  0.        ,  0.        ,  0.        ,\n",
       "         0.        ,  0.        ,  0.        ,  0.        ,  0.        ,\n",
       "         0.        ,  1.99678121,  0.        ,  0.        ,  0.        ,\n",
       "         0.        ,  0.        ,  0.        ,  0.        ,  0.        ,\n",
       "         0.        ,  0.        ,  0.        ,  0.        ,  0.        ,\n",
       "         0.        ,  0.        ,  0.        ,  0.        ,  0.        ,\n",
       "         0.        ,  0.        ,  0.        ,  0.        ,  0.        ,\n",
       "         0.        ,  0.        ,  0.        ,  0.        ,  0.        ,\n",
       "         0.        ,  0.        ,  0.        ,  0.        ,  0.        ,\n",
       "         0.        ,  0.        ,  2.13978021,  0.        ,  2.51825553,\n",
       "         0.        ,  0.        ,  0.        ,  0.        ,  0.        ,\n",
       "         0.        ,  0.        ,  0.        ,  0.        ,  0.        ,\n",
       "         0.        ,  0.        ,  2.17295895,  0.        ,  0.        ,\n",
       "         0.        ,  0.        ,  0.        ,  0.        ,  0.        ,\n",
       "         0.        ,  0.        ,  0.        ,  0.        ,  0.        ,\n",
       "         0.        ,  0.        ,  0.        ,  0.        ,  0.        ,\n",
       "         0.        ],\n",
       "       [ 0.        ,  5.73336102,  0.        ,  0.        ,  0.        ,\n",
       "         0.        ,  0.        ,  0.        ,  0.        ,  0.        ,\n",
       "         0.        ,  0.        ,  2.82174175,  0.        ,  0.        ,\n",
       "         0.        ,  0.        ,  0.        ,  0.        ,  0.        ,\n",
       "         2.15559691,  0.        ,  0.        ,  0.        ,  2.88231488,\n",
       "         0.        ,  0.        ,  2.61504694,  0.        ,  0.        ,\n",
       "         0.        ,  0.        ,  2.48711529,  0.        ,  0.        ,\n",
       "         0.        ,  0.        ,  0.        ,  0.        ,  0.        ,\n",
       "         0.        ,  2.93565286,  0.        ,  0.        ,  8.54877284,\n",
       "         0.        ,  0.        ,  0.        ,  2.68488576,  0.        ,\n",
       "         3.02308404,  0.        ,  0.        ,  0.        ,  0.        ,\n",
       "         2.69984743,  0.        ,  0.        ,  0.        ,  0.        ,\n",
       "         0.        ,  0.        ,  0.        ,  2.9059357 ,  0.        ,\n",
       "         2.95837758,  0.        ,  0.        ,  0.        ,  8.38073551,\n",
       "         0.        ,  2.45691555,  0.        ,  0.        ,  0.        ,\n",
       "         0.        ,  0.        ,  0.        ,  0.        ,  0.        ,\n",
       "         0.        ,  0.        ,  0.        ,  0.        ,  0.        ,\n",
       "         2.64084023,  2.13162029,  0.        ,  0.        ,  0.        ,\n",
       "         2.9104274 ,  0.        ,  0.        ,  0.        ,  0.        ,\n",
       "         0.        ,  5.79224882,  0.        ,  0.        ,  0.        ,\n",
       "         0.        ,  0.        ,  0.        ,  0.        ,  0.        ,\n",
       "         2.79947032,  2.43261371,  2.81163099,  0.        ,  0.        ,\n",
       "         0.        ,  0.        ,  0.        ,  3.20171741,  0.        ,\n",
       "         0.        ,  0.        ,  0.        ,  0.        ,  2.59164631,\n",
       "         0.        ,  0.        ,  0.        ,  3.12223093,  0.        ,\n",
       "         0.        ,  2.85696059,  2.72346476,  0.        ,  0.        ,\n",
       "         0.        ,  0.        ,  2.69233861,  0.        ,  3.0551687 ,\n",
       "         0.        ,  0.        ,  0.        ,  0.        ,  5.75183157,\n",
       "         0.        ,  0.        ,  0.        ,  0.        ,  0.        ,\n",
       "         0.        ,  0.        ,  0.        ,  0.        ,  0.        ,\n",
       "         0.        ,  0.        ,  0.        ,  2.72097844,  0.        ,\n",
       "         2.88465201,  0.        ,  0.        ,  2.76540763,  0.        ,\n",
       "         0.        ,  0.        ,  2.99297424,  0.        ,  0.        ,\n",
       "         0.        ,  0.        ,  2.91826112,  0.        ,  0.        ,\n",
       "         0.        ,  3.01438833,  0.        ,  2.47655801,  0.        ,\n",
       "         2.94399784,  0.        ,  0.        ,  0.        ,  0.        ,\n",
       "         0.        ,  0.        ,  0.        ,  0.        ,  0.        ,\n",
       "         0.        ,  0.        ,  2.82642173,  0.        ,  0.        ,\n",
       "         0.        ,  0.        ,  0.        ,  0.        ,  0.        ,\n",
       "         0.        ,  0.        ,  2.72271822,  0.        ,  0.        ,\n",
       "         0.        ,  2.68752397,  2.80108323,  0.        ,  2.52599015,\n",
       "         0.        ,  2.74637902,  0.        ,  0.        ,  0.        ,\n",
       "         0.        ,  0.        ,  0.        ,  0.        ,  0.        ,\n",
       "         0.        ,  0.        ,  0.        ,  0.        ,  2.63376015,\n",
       "         0.        ,  0.        ,  0.        ,  5.41335678,  0.        ,\n",
       "         0.        ,  0.        ,  5.3621215 ,  0.        ,  0.        ,\n",
       "         0.        ,  2.75997072,  0.        ,  0.        ,  2.65422298,\n",
       "         0.        ,  0.        ,  0.        ,  2.95210009,  0.        ,\n",
       "         0.        ,  0.        ,  0.        ,  2.57648795,  2.88377494,\n",
       "         0.        ,  2.68464627,  2.68297143,  0.        ,  0.        ,\n",
       "         0.        ,  5.70144242,  0.        ,  0.        ,  0.        ,\n",
       "         0.        ],\n",
       "       [ 0.        ,  0.        ,  0.        ,  0.        ,  0.        ,\n",
       "         0.        ,  0.        ,  0.        ,  0.        ,  0.        ,\n",
       "         0.        ,  0.        ,  0.        ,  0.        ,  0.        ,\n",
       "         0.        ,  0.        ,  0.        ,  0.        ,  0.        ,\n",
       "         0.        ,  0.        ,  0.        ,  0.        ,  0.        ,\n",
       "         0.        ,  0.        ,  0.        ,  0.        ,  0.        ,\n",
       "         0.        ,  0.        ,  0.        ,  0.        ,  0.        ,\n",
       "         0.        ,  0.        ,  0.        ,  0.        ,  0.        ,\n",
       "         0.        ,  0.        ,  0.        ,  0.        ,  0.        ,\n",
       "         0.        ,  0.        ,  0.        ,  0.        ,  0.        ,\n",
       "         0.        ,  0.        ,  0.        ,  0.        ,  0.        ,\n",
       "         0.        ,  0.        ,  0.        ,  0.        ,  0.        ,\n",
       "         0.        ,  0.        ,  0.        ,  0.        ,  0.        ,\n",
       "         0.        ,  0.        ,  0.        ,  0.        ,  0.        ,\n",
       "         0.        ,  0.        ,  0.        ,  0.        ,  0.        ,\n",
       "         0.        ,  0.        ,  0.        ,  0.        ,  0.        ,\n",
       "         0.        ,  0.        ,  0.        ,  0.        ,  0.        ,\n",
       "         0.        ,  0.        ,  0.        ,  0.        ,  0.        ,\n",
       "         0.        ,  0.        ,  0.        ,  0.        ,  0.        ,\n",
       "         0.        ,  0.        ,  0.        ,  0.        ,  0.        ,\n",
       "         0.        ,  0.        ,  0.        ,  0.        ,  0.        ,\n",
       "         0.        ,  0.        ,  0.        ,  0.        ,  0.        ,\n",
       "         0.        ,  0.        ,  0.        ,  0.        ,  0.        ,\n",
       "         0.        ,  0.        ,  0.        ,  0.        ,  0.        ,\n",
       "         0.        ,  0.        ,  0.        ,  0.        ,  0.        ,\n",
       "         0.        ,  0.        ,  0.        ,  0.        ,  0.        ,\n",
       "         0.        ,  0.        ,  0.        ,  0.        ,  0.        ,\n",
       "         0.        ,  0.        ,  0.        ,  0.        ,  0.        ,\n",
       "         0.        ,  0.        ,  0.        ,  0.        ,  0.        ,\n",
       "         0.        ,  0.        ,  0.        ,  0.        ,  0.        ,\n",
       "         0.        ,  0.        ,  0.        ,  0.        ,  0.        ,\n",
       "         0.        ,  0.        ,  0.        ,  0.        ,  0.        ,\n",
       "         0.        ,  0.        ,  0.        ,  0.        ,  0.        ,\n",
       "         0.        ,  0.        ,  0.        ,  0.        ,  0.        ,\n",
       "         0.        ,  0.        ,  0.        ,  0.        ,  0.        ,\n",
       "         0.        ,  0.        ,  0.        ,  0.        ,  0.        ,\n",
       "         0.        ,  0.        ,  0.        ,  0.        ,  0.        ,\n",
       "         0.        ,  0.        ,  0.        ,  0.        ,  0.        ,\n",
       "         0.        ,  0.        ,  0.        ,  0.        ,  0.        ,\n",
       "         0.        ,  0.        ,  0.        ,  0.        ,  0.        ,\n",
       "         0.        ,  0.        ,  0.        ,  0.        ,  0.        ,\n",
       "         0.        ,  0.        ,  0.        ,  0.        ,  0.        ,\n",
       "         0.        ,  0.        ,  0.        ,  0.        ,  0.        ,\n",
       "         0.        ,  0.        ,  0.        ,  0.        ,  0.        ,\n",
       "         0.        ,  0.        ,  0.        ,  0.        ,  2.51825553,\n",
       "         0.        ,  0.        ,  0.        ,  0.        ,  0.        ,\n",
       "         0.        ,  0.        ,  0.        ,  0.        ,  0.        ,\n",
       "         0.        ,  0.        ,  0.        ,  0.        ,  0.        ,\n",
       "         0.        ,  0.        ,  0.        ,  0.        ,  0.        ,\n",
       "         0.        ,  0.        ,  0.        ,  0.        ,  0.        ,\n",
       "         0.        ,  0.        ,  0.        ,  0.        ,  0.        ,\n",
       "         0.        ]])"
      ]
     },
     "execution_count": 46,
     "metadata": {},
     "output_type": "execute_result"
    }
   ],
   "source": [
    "ts_tfidf[:3]"
   ]
  },
  {
   "cell_type": "code",
   "execution_count": null,
   "metadata": {
    "collapsed": true
   },
   "outputs": [],
   "source": []
  }
 ],
 "metadata": {
  "kernelspec": {
   "display_name": "Python [py27]",
   "language": "python",
   "name": "Python [py27]"
  },
  "language_info": {
   "codemirror_mode": {
    "name": "ipython",
    "version": 2
   },
   "file_extension": ".py",
   "mimetype": "text/x-python",
   "name": "python",
   "nbconvert_exporter": "python",
   "pygments_lexer": "ipython2",
   "version": "2.7.11"
  }
 },
 "nbformat": 4,
 "nbformat_minor": 2
}
